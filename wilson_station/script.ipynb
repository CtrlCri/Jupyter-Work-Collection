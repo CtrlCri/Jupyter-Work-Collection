{
 "cells": [
  {
   "attachments": {},
   "cell_type": "markdown",
   "metadata": {},
   "source": [
    "# Estación Wilson\n",
    "Total de pasajeros en un mes: El objetivo es encontrar el número total de viajes proporcionados a los pasajeros que pasan por la estación Wilson cuando viajan en el sistema de transporte público de Chicago en días laborables  en julio. \n",
    "Afortunadamente, Chicago proporciona estos datos detallados, pero están en tres tablas diferentes. Trabajaremos en la fusión de estas tablas para responder a la pregunta."
   ]
  },
  {
   "cell_type": "markdown",
   "metadata": {},
   "source": [
    "![Diagrama](cta_L_diagram.png)"
   ]
  },
  {
   "cell_type": "code",
   "execution_count": 2,
   "metadata": {},
   "outputs": [],
   "source": [
    "import pandas as pd"
   ]
  },
  {
   "cell_type": "markdown",
   "metadata": {},
   "source": [
    "## Tabla cal (Calendario):\n",
    "\n",
    "**year**: Año en el que se registraron los datos.  \n",
    "**month**: Mes en el que se registraron los datos.  \n",
    "**day**: Día del mes en el que se registraron los datos.  \n",
    "**day_type**: Tipo de día, que puede ser \"Sunday/Holiday\" (domingo o día festivo) o \"Weekday\" (día laborable).  "
   ]
  },
  {
   "cell_type": "code",
   "execution_count": 3,
   "metadata": {},
   "outputs": [
    {
     "name": "stdout",
     "output_type": "stream",
     "text": [
      "     year  month  day        day_type\n",
      "0    2019      1    1  Sunday/Holiday\n",
      "1    2019      1    2         Weekday\n",
      "2    2019      1    3         Weekday\n",
      "3    2019      1    4         Weekday\n",
      "4    2019      1    5        Saturday\n",
      "..    ...    ...  ...             ...\n",
      "360  2019     12   27         Weekday\n",
      "361  2019     12   28        Saturday\n",
      "362  2019     12   29  Sunday/Holiday\n",
      "363  2019     12   30         Weekday\n",
      "364  2019     12   31         Weekday\n",
      "\n",
      "[365 rows x 4 columns]\n"
     ]
    }
   ],
   "source": [
    "cal = pd.read_csv('cal.csv')\n",
    "print(cal)"
   ]
  },
  {
   "cell_type": "markdown",
   "metadata": {},
   "source": [
    "## Tabla ridership (Ridership - Datos de viajes):\n",
    "\n",
    "**station_id:** Identificador de la estación donde se registraron los datos.  \n",
    "**year:** Año en el que se registraron los datos.  \n",
    "**month:** Mes en el que se registraron los datos.  \n",
    "**day:** Día del mes en el que se registraron los datos.  \n",
    "**rides:** Número de viajes registrados en la estación en el día específico.  "
   ]
  },
  {
   "cell_type": "code",
   "execution_count": 4,
   "metadata": {},
   "outputs": [
    {
     "name": "stdout",
     "output_type": "stream",
     "text": [
      "      station_id  year  month  day  rides\n",
      "0          40010  2019      1    1    576\n",
      "1          40010  2019      1    2   1457\n",
      "2          40010  2019      1    3   1543\n",
      "3          40010  2019      1    4   1621\n",
      "4          40010  2019      1    5    719\n",
      "...          ...   ...    ...  ...    ...\n",
      "3280       41660  2019     12   27  13898\n",
      "3281       41660  2019     12   28   9485\n",
      "3282       41660  2019     12   29   7581\n",
      "3283       41660  2019     12   30  15332\n",
      "3284       41660  2019     12   31  13430\n",
      "\n",
      "[3285 rows x 5 columns]\n"
     ]
    }
   ],
   "source": [
    "ridership = pd.read_csv('ridership.csv')\n",
    "print(ridership)"
   ]
  },
  {
   "cell_type": "markdown",
   "metadata": {},
   "source": [
    "## Tabla stations (Estaciones):\n",
    "\n",
    "**station_id:** Identificador de la estación.  \n",
    "**station_name:** Nombre de la estación.  \n",
    "**location:** Coordenadas de ubicación de la estación (latitud, longitud).  "
   ]
  },
  {
   "cell_type": "code",
   "execution_count": 5,
   "metadata": {},
   "outputs": [
    {
     "name": "stdout",
     "output_type": "stream",
     "text": [
      "     station_id            station_name                     location\n",
      "0         40010      Austin-Forest Park      (41.870851, -87.776812)\n",
      "1         40020             Harlem-Lake      (41.886848, -87.803176)\n",
      "2         40030            Pulaski-Lake      (41.885412, -87.725404)\n",
      "3         40040            Quincy/Wells       (41.878723, -87.63374)\n",
      "4         40050                   Davis       (42.04771, -87.683543)\n",
      "..          ...                     ...                          ...\n",
      "139       41660              Lake/State      (41.884809, -87.627813)\n",
      "140       41670            Conservatory      (41.884904, -87.716523)\n",
      "141       41680           Oakton-Skokie  (42.02624348, -87.74722084)\n",
      "142       41690  Cermak-McCormick Place      (41.853115, -87.626402)\n",
      "143       41700       Washington/Wabash       (41.88322, -87.626189)\n",
      "\n",
      "[144 rows x 3 columns]\n"
     ]
    }
   ],
   "source": [
    "stations = pd.read_csv('stations.csv')\n",
    "print(stations)"
   ]
  },
  {
   "cell_type": "markdown",
   "metadata": {},
   "source": [
    "Para lograr el objetivo, necesitamos combinar información de las tres tablas y filtrar los datos para el mes de julio y los días laborables (días de tipo \"Weekday\") en la estación Wilson??"
   ]
  }
 ],
 "metadata": {
  "kernelspec": {
   "display_name": "venv",
   "language": "python",
   "name": "python3"
  },
  "language_info": {
   "codemirror_mode": {
    "name": "ipython",
    "version": 3
   },
   "file_extension": ".py",
   "mimetype": "text/x-python",
   "name": "python",
   "nbconvert_exporter": "python",
   "pygments_lexer": "ipython3",
   "version": "3.11.4"
  },
  "orig_nbformat": 4
 },
 "nbformat": 4,
 "nbformat_minor": 2
}
