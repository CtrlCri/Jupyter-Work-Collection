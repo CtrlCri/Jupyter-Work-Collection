{
 "cells": [
  {
   "attachments": {},
   "cell_type": "markdown",
   "metadata": {},
   "source": [
    "# Estación Wilson\n",
    "Total de pasajeros en un mes: El objetivo es encontrar el número total de viajes proporcionados a los pasajeros que pasan por la estación Wilson cuando viajan en el sistema de transporte público de Chicago en días laborables  en julio. \n",
    "Afortunadamente, Chicago proporciona estos datos detallados, pero están en tres tablas diferentes. Trabajaremos en la fusión de estas tablas para responder a la pregunta."
   ]
  }
 ],
 "metadata": {
  "language_info": {
   "name": "python"
  },
  "orig_nbformat": 4
 },
 "nbformat": 4,
 "nbformat_minor": 2
}
