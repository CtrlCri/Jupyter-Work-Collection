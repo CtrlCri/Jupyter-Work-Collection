{
 "cells": [
  {
   "attachments": {},
   "cell_type": "markdown",
   "metadata": {},
   "source": [
    "# Estación Wilson\n",
    "Total de pasajeros en un mes: El objetivo es encontrar el número total de viajes proporcionados a los pasajeros que pasan por la estación Wilson cuando viajan en el sistema de transporte público de Chicago en días laborables  en julio. \n",
    "Afortunadamente, Chicago proporciona estos datos detallados, pero están en tres tablas diferentes. Trabajaremos en la fusión de estas tablas para responder a la pregunta."
   ]
  },
  {
   "cell_type": "code",
   "execution_count": 1,
   "metadata": {},
   "outputs": [],
   "source": [
    "import pandas as pd"
   ]
  },
  {
   "cell_type": "code",
   "execution_count": 2,
   "metadata": {},
   "outputs": [
    {
     "name": "stdout",
     "output_type": "stream",
     "text": [
      "   year  month  day        day_type\n",
      "0  2019      1    1  Sunday/Holiday\n",
      "1  2019      1    2         Weekday\n",
      "2  2019      1    3         Weekday\n",
      "3  2019      1    4         Weekday\n",
      "4  2019      1    5        Saturday\n"
     ]
    }
   ],
   "source": [
    "cal = pd.read_csv('cal.csv')\n",
    "print(cal.head())"
   ]
  },
  {
   "cell_type": "code",
   "execution_count": 3,
   "metadata": {},
   "outputs": [
    {
     "name": "stdout",
     "output_type": "stream",
     "text": [
      "   station_id  year  month  day  rides\n",
      "0       40010  2019      1    1    576\n",
      "1       40010  2019      1    2   1457\n",
      "2       40010  2019      1    3   1543\n",
      "3       40010  2019      1    4   1621\n",
      "4       40010  2019      1    5    719\n"
     ]
    }
   ],
   "source": [
    "ridership = pd.read_csv('ridership.csv')\n",
    "print(ridership.head())"
   ]
  },
  {
   "cell_type": "code",
   "execution_count": 4,
   "metadata": {},
   "outputs": [
    {
     "name": "stdout",
     "output_type": "stream",
     "text": [
      "   station_id        station_name                 location\n",
      "0       40010  Austin-Forest Park  (41.870851, -87.776812)\n",
      "1       40020         Harlem-Lake  (41.886848, -87.803176)\n",
      "2       40030        Pulaski-Lake  (41.885412, -87.725404)\n",
      "3       40040        Quincy/Wells   (41.878723, -87.63374)\n",
      "4       40050               Davis   (42.04771, -87.683543)\n"
     ]
    }
   ],
   "source": [
    "stations = pd.read_csv('stations.csv')\n",
    "print(stations.head())"
   ]
  }
 ],
 "metadata": {
  "kernelspec": {
   "display_name": "venv",
   "language": "python",
   "name": "python3"
  },
  "language_info": {
   "codemirror_mode": {
    "name": "ipython",
    "version": 3
   },
   "file_extension": ".py",
   "mimetype": "text/x-python",
   "name": "python",
   "nbconvert_exporter": "python",
   "pygments_lexer": "ipython3",
   "version": "3.10.4"
  },
  "orig_nbformat": 4
 },
 "nbformat": 4,
 "nbformat_minor": 2
}
