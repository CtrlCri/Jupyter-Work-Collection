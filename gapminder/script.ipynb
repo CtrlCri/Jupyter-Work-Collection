{
 "cells": [
  {
   "cell_type": "code",
   "execution_count": 2,
   "metadata": {},
   "outputs": [
    {
     "name": "stdout",
     "output_type": "stream",
     "text": [
      "       gdp_cap  life_exp   pop_x2\n",
      "0      974.580    43.828   63.780\n",
      "1     5937.030    76.423    7.201\n",
      "2     6223.367    72.301   66.666\n",
      "3     4797.231    42.731   24.841\n",
      "4    12779.380    75.320   80.604\n",
      "..         ...       ...      ...\n",
      "137   2441.576    74.249  170.525\n",
      "138   3025.350    73.422    8.037\n",
      "139   2280.770    62.698   44.423\n",
      "140   1271.212    42.384   23.492\n",
      "141    469.709    43.487   24.622\n",
      "\n",
      "[142 rows x 3 columns]\n"
     ]
    }
   ],
   "source": [
    "import pandas as pd\n",
    "\n",
    "df = pd.read_csv('data.csv')\n",
    "print(df)"
   ]
  },
  {
   "cell_type": "code",
   "execution_count": null,
   "metadata": {},
   "outputs": [],
   "source": []
  }
 ],
 "metadata": {
  "kernelspec": {
   "display_name": "venv",
   "language": "python",
   "name": "python3"
  },
  "language_info": {
   "codemirror_mode": {
    "name": "ipython",
    "version": 3
   },
   "file_extension": ".py",
   "mimetype": "text/x-python",
   "name": "python",
   "nbconvert_exporter": "python",
   "pygments_lexer": "ipython3",
   "version": "3.10.4"
  },
  "orig_nbformat": 4
 },
 "nbformat": 4,
 "nbformat_minor": 2
}
