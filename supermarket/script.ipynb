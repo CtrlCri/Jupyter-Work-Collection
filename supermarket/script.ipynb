{
 "cells": [
  {
   "attachments": {},
   "cell_type": "markdown",
   "metadata": {},
   "source": [
    "# Sales\n",
    "Son datos sobre tiendas de Walmart en los Estados Unidos. \n",
    "El conjunto de datos contiene ventas semanales en dólares estadounidenses en varias tiendas. Cada tienda tiene un número de identificación y un tipo de tienda específico. \n",
    "Las ventas también están separadas por número de identificación del departamento. \n",
    "Junto con las ventas semanales, hay información sobre si fue una semana de feriado o no, la temperatura promedio durante la semana en esa ubicación, el precio promedio del combustible en dólares por litro esa semana y la tasa nacional de desempleo esa semana."
   ]
  },
  {
   "cell_type": "code",
   "execution_count": 9,
   "metadata": {},
   "outputs": [],
   "source": [
    "import pandas as pd\n",
    "import numpy as np\n",
    "sales = pd.read_csv('sales.csv')"
   ]
  },
  {
   "cell_type": "code",
   "execution_count": 3,
   "metadata": {},
   "outputs": [
    {
     "name": "stdout",
     "output_type": "stream",
     "text": [
      "   store type  department        date  weekly_sales  is_holiday   \n",
      "0      1    A           1  2010-02-05      24924.50       False  \\\n",
      "1      1    A           1  2010-03-05      21827.90       False   \n",
      "2      1    A           1  2010-04-02      57258.43       False   \n",
      "3      1    A           1  2010-05-07      17413.94       False   \n",
      "4      1    A           1  2010-06-04      17558.09       False   \n",
      "\n",
      "   temperature_c  fuel_price_usd_per_l  unemployment  \n",
      "0       5.727778              0.679451         8.106  \n",
      "1       8.055556              0.693452         8.106  \n",
      "2      16.816667              0.718284         7.808  \n",
      "3      22.527778              0.748928         7.808  \n",
      "4      27.050000              0.714586         7.808  \n",
      "<class 'pandas.core.frame.DataFrame'>\n",
      "RangeIndex: 10774 entries, 0 to 10773\n",
      "Data columns (total 9 columns):\n",
      " #   Column                Non-Null Count  Dtype  \n",
      "---  ------                --------------  -----  \n",
      " 0   store                 10774 non-null  int64  \n",
      " 1   type                  10774 non-null  object \n",
      " 2   department            10774 non-null  int64  \n",
      " 3   date                  10774 non-null  object \n",
      " 4   weekly_sales          10774 non-null  float64\n",
      " 5   is_holiday            10774 non-null  bool   \n",
      " 6   temperature_c         10774 non-null  float64\n",
      " 7   fuel_price_usd_per_l  10774 non-null  float64\n",
      " 8   unemployment          10774 non-null  float64\n",
      "dtypes: bool(1), float64(4), int64(2), object(2)\n",
      "memory usage: 684.0+ KB\n",
      "None\n",
      "23843.95014850566\n",
      "12049.064999999999\n"
     ]
    }
   ],
   "source": [
    "# The head of the sales DataFrame\n",
    "print(sales.head())\n",
    "\n",
    "# The info about the sales DataFrame\n",
    "print(sales.info())\n",
    "\n",
    "# The mean of weekly_sales\n",
    "print(sales[\"weekly_sales\"].mean())\n",
    "\n",
    "# The median of weekly_sales\n",
    "print(sales[\"weekly_sales\"].median())"
   ]
  },
  {
   "attachments": {},
   "cell_type": "markdown",
   "metadata": {},
   "source": [
    "Que rango de tiempo cubren los datos?"
   ]
  },
  {
   "cell_type": "code",
   "execution_count": 10,
   "metadata": {},
   "outputs": [
    {
     "name": "stdout",
     "output_type": "stream",
     "text": [
      "2010-02-05\n",
      "to\n",
      "2012-10-26\n"
     ]
    }
   ],
   "source": [
    "# The maximum of the date column\n",
    "print(sales['date'].min())\n",
    "print(\"to\")\n",
    "# The minimum of the date column\n",
    "print(sales['date'].max())"
   ]
  },
  {
   "attachments": {},
   "cell_type": "markdown",
   "metadata": {},
   "source": [
    "Escribimos una función personalizada, \"IQR\" es la abreviatura de rango intercuartil, que es el percentil 75 menos el percentil 25. Es una alternativa a la desviación estándar que es útil si los datos contienen valores atípicos."
   ]
  },
  {
   "cell_type": "code",
   "execution_count": 11,
   "metadata": {},
   "outputs": [
    {
     "name": "stdout",
     "output_type": "stream",
     "text": [
      "temperature_c           16.583333\n",
      "fuel_price_usd_per_l     0.073176\n",
      "unemployment             0.565000\n",
      "dtype: float64\n"
     ]
    }
   ],
   "source": [
    "# IQR function\n",
    "def iqr(column):\n",
    "    return column.quantile(0.75) - column.quantile(0.25)\n",
    "    \n",
    "# IQR of temperature_c, fuel_price_usd_per_l, & unemployment\n",
    "print(sales[[\"temperature_c\", \"fuel_price_usd_per_l\", \"unemployment\"]].agg(iqr))"
   ]
  },
  {
   "attachments": {},
   "cell_type": "markdown",
   "metadata": {},
   "source": [
    "Las conclusiones extraídas son que las temperaturas muestran una variabilidad significativa, los precios del combustible tienen una dispersión relativamente baja y las tasas de desempleo presentan cierta variabilidad."
   ]
  },
  {
   "cell_type": "code",
   "execution_count": 12,
   "metadata": {},
   "outputs": [
    {
     "name": "stdout",
     "output_type": "stream",
     "text": [
      "        temperature_c  fuel_price_usd_per_l  unemployment\n",
      "iqr         16.583333              0.073176         0.565\n",
      "median      16.966667              0.743381         8.099\n"
     ]
    }
   ],
   "source": [
    "# IQR and median of temperature_c, fuel_price_usd_per_l, & unemployment\n",
    "print(sales[[\"temperature_c\", \"fuel_price_usd_per_l\", \"unemployment\"]].agg([iqr,np.median]))"
   ]
  },
  {
   "attachments": {},
   "cell_type": "markdown",
   "metadata": {},
   "source": [
    "Las conclusiones actualizadas son que las temperaturas presentan una dispersión moderada con una mediana cercana al valor del tercer cuartil, los precios del combustible tienen una dispersión relativamente baja con una mediana mayor a la mitad de los precios, y las tasas de desempleo también muestran una dispersión moderada con una mediana significativamente más baja que el tercer cuartil."
   ]
  },
  {
   "attachments": {},
   "cell_type": "markdown",
   "metadata": {},
   "source": [
    "Quiero calcular la suma acumulada y el máximo acumulado de las ventas semanales de un departamento, lo que nos permitirá identificar cuáles fueron las ventas totales hasta ahora, así como cuáles fueron las ventas semanales más altas hasta ahora."
   ]
  },
  {
   "cell_type": "code",
   "execution_count": 18,
   "metadata": {},
   "outputs": [],
   "source": [
    "# Datos de ventas para el departamento 1 de la tienda 1\n",
    "sales_1_1 = sales[(sales[\"department\"] == 1) & (sales[\"store\"] == 1)]"
   ]
  },
  {
   "cell_type": "code",
   "execution_count": 20,
   "metadata": {},
   "outputs": [],
   "source": [
    "# sales_1_1 by date\n",
    "sales_1_1 = sales_1_1.sort_values(\"date\", ascending=True )"
   ]
  },
  {
   "cell_type": "code",
   "execution_count": 21,
   "metadata": {},
   "outputs": [
    {
     "name": "stdout",
     "output_type": "stream",
     "text": [
      "    store type  department        date  weekly_sales  is_holiday   \n",
      "0       1    A           1  2010-02-05      24924.50       False  \\\n",
      "1       1    A           1  2010-03-05      21827.90       False   \n",
      "2       1    A           1  2010-04-02      57258.43       False   \n",
      "3       1    A           1  2010-05-07      17413.94       False   \n",
      "4       1    A           1  2010-06-04      17558.09       False   \n",
      "5       1    A           1  2010-07-02      16333.14       False   \n",
      "6       1    A           1  2010-08-06      17508.41       False   \n",
      "7       1    A           1  2010-09-03      16241.78       False   \n",
      "8       1    A           1  2010-10-01      20094.19       False   \n",
      "9       1    A           1  2010-11-05      34238.88       False   \n",
      "10      1    A           1  2010-12-03      22517.56       False   \n",
      "11      1    A           1  2011-01-07      15984.24       False   \n",
      "\n",
      "    temperature_c  fuel_price_usd_per_l  unemployment  \n",
      "0        5.727778              0.679451         8.106  \n",
      "1        8.055556              0.693452         8.106  \n",
      "2       16.816667              0.718284         7.808  \n",
      "3       22.527778              0.748928         7.808  \n",
      "4       27.050000              0.714586         7.808  \n",
      "5       27.172222              0.705076         7.787  \n",
      "6       30.644444              0.693980         7.787  \n",
      "7       27.338889              0.680772         7.787  \n",
      "8       22.161111              0.687640         7.838  \n",
      "9       14.855556              0.710359         7.838  \n",
      "10       9.594444              0.715378         7.838  \n",
      "11       9.038889              0.786176         7.742  \n"
     ]
    }
   ],
   "source": [
    "print(sales_1_1)"
   ]
  },
  {
   "cell_type": "code",
   "execution_count": 22,
   "metadata": {},
   "outputs": [
    {
     "name": "stdout",
     "output_type": "stream",
     "text": [
      "    store type  department        date  weekly_sales  is_holiday   \n",
      "0       1    A           1  2010-02-05      24924.50       False  \\\n",
      "1       1    A           1  2010-03-05      21827.90       False   \n",
      "2       1    A           1  2010-04-02      57258.43       False   \n",
      "3       1    A           1  2010-05-07      17413.94       False   \n",
      "4       1    A           1  2010-06-04      17558.09       False   \n",
      "5       1    A           1  2010-07-02      16333.14       False   \n",
      "6       1    A           1  2010-08-06      17508.41       False   \n",
      "7       1    A           1  2010-09-03      16241.78       False   \n",
      "8       1    A           1  2010-10-01      20094.19       False   \n",
      "9       1    A           1  2010-11-05      34238.88       False   \n",
      "10      1    A           1  2010-12-03      22517.56       False   \n",
      "11      1    A           1  2011-01-07      15984.24       False   \n",
      "\n",
      "    temperature_c  fuel_price_usd_per_l  unemployment  cum_weekly_sales  \n",
      "0        5.727778              0.679451         8.106          24924.50  \n",
      "1        8.055556              0.693452         8.106          46752.40  \n",
      "2       16.816667              0.718284         7.808         104010.83  \n",
      "3       22.527778              0.748928         7.808         121424.77  \n",
      "4       27.050000              0.714586         7.808         138982.86  \n",
      "5       27.172222              0.705076         7.787         155316.00  \n",
      "6       30.644444              0.693980         7.787         172824.41  \n",
      "7       27.338889              0.680772         7.787         189066.19  \n",
      "8       22.161111              0.687640         7.838         209160.38  \n",
      "9       14.855556              0.710359         7.838         243399.26  \n",
      "10       9.594444              0.715378         7.838         265916.82  \n",
      "11       9.038889              0.786176         7.742         281901.06  \n"
     ]
    }
   ],
   "source": [
    "# The cumulative sum of weekly_sales, add as cum_weekly_sales col\n",
    "sales_1_1[\"cum_weekly_sales\"] = sales_1_1[\"weekly_sales\"].cumsum()\n",
    "\n",
    "print(sales_1_1)"
   ]
  },
  {
   "cell_type": "code",
   "execution_count": 24,
   "metadata": {},
   "outputs": [],
   "source": [
    "# The cumulative max of weekly_sales, add as cum_max_sales col\n",
    "sales_1_1[\"cum_max_sales\"] = sales_1_1[\"weekly_sales\"].cummax()"
   ]
  },
  {
   "cell_type": "code",
   "execution_count": 25,
   "metadata": {},
   "outputs": [
    {
     "name": "stdout",
     "output_type": "stream",
     "text": [
      "          date  weekly_sales  cum_weekly_sales  cum_max_sales\n",
      "0   2010-02-05      24924.50          24924.50       24924.50\n",
      "1   2010-03-05      21827.90          46752.40       24924.50\n",
      "2   2010-04-02      57258.43         104010.83       57258.43\n",
      "3   2010-05-07      17413.94         121424.77       57258.43\n",
      "4   2010-06-04      17558.09         138982.86       57258.43\n",
      "5   2010-07-02      16333.14         155316.00       57258.43\n",
      "6   2010-08-06      17508.41         172824.41       57258.43\n",
      "7   2010-09-03      16241.78         189066.19       57258.43\n",
      "8   2010-10-01      20094.19         209160.38       57258.43\n",
      "9   2010-11-05      34238.88         243399.26       57258.43\n",
      "10  2010-12-03      22517.56         265916.82       57258.43\n",
      "11  2011-01-07      15984.24         281901.06       57258.43\n"
     ]
    }
   ],
   "source": [
    "print(sales_1_1[[\"date\", \"weekly_sales\", \"cum_weekly_sales\", \"cum_max_sales\"]])"
   ]
  }
 ],
 "metadata": {
  "kernelspec": {
   "display_name": "venv",
   "language": "python",
   "name": "python3"
  },
  "language_info": {
   "codemirror_mode": {
    "name": "ipython",
    "version": 3
   },
   "file_extension": ".py",
   "mimetype": "text/x-python",
   "name": "python",
   "nbconvert_exporter": "python",
   "pygments_lexer": "ipython3",
   "version": "3.10.4"
  },
  "orig_nbformat": 4
 },
 "nbformat": 4,
 "nbformat_minor": 2
}
