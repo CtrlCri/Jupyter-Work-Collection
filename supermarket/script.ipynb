{
 "cells": [
  {
   "attachments": {},
   "cell_type": "markdown",
   "metadata": {},
   "source": [
    "# Sales\n",
    "Son datos sobre tiendas de Walmart en los Estados Unidos. \n",
    "El conjunto de datos contiene ventas semanales en dólares estadounidenses en varias tiendas. Cada tienda tiene un número de identificación y un tipo de tienda específico. \n",
    "Las ventas también están separadas por número de identificación del departamento. \n",
    "Junto con las ventas semanales, hay información sobre si fue una semana de feriado o no, la temperatura promedio durante la semana en esa ubicación, el precio promedio del combustible en dólares por litro esa semana y la tasa nacional de desempleo esa semana."
   ]
  },
  {
   "cell_type": "code",
   "execution_count": 1,
   "metadata": {},
   "outputs": [],
   "source": [
    "import pandas as pd\n",
    "import numpy as np\n",
    "sales = pd.read_csv('sales.csv')"
   ]
  },
  {
   "cell_type": "code",
   "execution_count": 2,
   "metadata": {},
   "outputs": [
    {
     "name": "stdout",
     "output_type": "stream",
     "text": [
      "   store type  department        date  weekly_sales  is_holiday   \n",
      "0      1    A           1  2010-02-05      24924.50       False  \\\n",
      "1      1    A           1  2010-03-05      21827.90       False   \n",
      "2      1    A           1  2010-04-02      57258.43       False   \n",
      "3      1    A           1  2010-05-07      17413.94       False   \n",
      "4      1    A           1  2010-06-04      17558.09       False   \n",
      "\n",
      "   temperature_c  fuel_price_usd_per_l  unemployment  \n",
      "0       5.727778              0.679451         8.106  \n",
      "1       8.055556              0.693452         8.106  \n",
      "2      16.816667              0.718284         7.808  \n",
      "3      22.527778              0.748928         7.808  \n",
      "4      27.050000              0.714586         7.808  \n",
      "<class 'pandas.core.frame.DataFrame'>\n",
      "RangeIndex: 10774 entries, 0 to 10773\n",
      "Data columns (total 9 columns):\n",
      " #   Column                Non-Null Count  Dtype  \n",
      "---  ------                --------------  -----  \n",
      " 0   store                 10774 non-null  int64  \n",
      " 1   type                  10774 non-null  object \n",
      " 2   department            10774 non-null  int64  \n",
      " 3   date                  10774 non-null  object \n",
      " 4   weekly_sales          10774 non-null  float64\n",
      " 5   is_holiday            10774 non-null  bool   \n",
      " 6   temperature_c         10774 non-null  float64\n",
      " 7   fuel_price_usd_per_l  10774 non-null  float64\n",
      " 8   unemployment          10774 non-null  float64\n",
      "dtypes: bool(1), float64(4), int64(2), object(2)\n",
      "memory usage: 684.0+ KB\n",
      "None\n",
      "23843.95014850566\n",
      "12049.064999999999\n"
     ]
    }
   ],
   "source": [
    "# The head of the sales DataFrame\n",
    "print(sales.head())\n",
    "\n",
    "# The info about the sales DataFrame\n",
    "print(sales.info())\n",
    "\n",
    "# The mean of weekly_sales\n",
    "print(sales[\"weekly_sales\"].mean())\n",
    "\n",
    "# The median of weekly_sales\n",
    "print(sales[\"weekly_sales\"].median())"
   ]
  },
  {
   "attachments": {},
   "cell_type": "markdown",
   "metadata": {},
   "source": [
    "Que rango de tiempo cubren los datos?"
   ]
  },
  {
   "cell_type": "code",
   "execution_count": 3,
   "metadata": {},
   "outputs": [
    {
     "name": "stdout",
     "output_type": "stream",
     "text": [
      "2010-02-05\n",
      "to\n",
      "2012-10-26\n"
     ]
    }
   ],
   "source": [
    "# The maximum of the date column\n",
    "print(sales['date'].min())\n",
    "print(\"to\")\n",
    "# The minimum of the date column\n",
    "print(sales['date'].max())"
   ]
  },
  {
   "attachments": {},
   "cell_type": "markdown",
   "metadata": {},
   "source": [
    "Escribimos una función personalizada, \"IQR\" es la abreviatura de rango intercuartil, que es el percentil 75 menos el percentil 25. Es una alternativa a la desviación estándar que es útil si los datos contienen valores atípicos."
   ]
  },
  {
   "cell_type": "code",
   "execution_count": 4,
   "metadata": {},
   "outputs": [
    {
     "name": "stdout",
     "output_type": "stream",
     "text": [
      "temperature_c           16.583333\n",
      "fuel_price_usd_per_l     0.073176\n",
      "unemployment             0.565000\n",
      "dtype: float64\n"
     ]
    }
   ],
   "source": [
    "# IQR function\n",
    "def iqr(column):\n",
    "    return column.quantile(0.75) - column.quantile(0.25)\n",
    "    \n",
    "# IQR of temperature_c, fuel_price_usd_per_l, & unemployment\n",
    "print(sales[[\"temperature_c\", \"fuel_price_usd_per_l\", \"unemployment\"]].agg(iqr))"
   ]
  },
  {
   "attachments": {},
   "cell_type": "markdown",
   "metadata": {},
   "source": [
    "Las conclusiones extraídas son que las temperaturas muestran una variabilidad significativa, los precios del combustible tienen una dispersión relativamente baja y las tasas de desempleo presentan cierta variabilidad."
   ]
  },
  {
   "cell_type": "code",
   "execution_count": 5,
   "metadata": {},
   "outputs": [
    {
     "name": "stdout",
     "output_type": "stream",
     "text": [
      "        temperature_c  fuel_price_usd_per_l  unemployment\n",
      "iqr         16.583333              0.073176         0.565\n",
      "median      16.966667              0.743381         8.099\n"
     ]
    }
   ],
   "source": [
    "# IQR and median of temperature_c, fuel_price_usd_per_l, & unemployment\n",
    "print(sales[[\"temperature_c\", \"fuel_price_usd_per_l\", \"unemployment\"]].agg([iqr,np.median]))"
   ]
  },
  {
   "attachments": {},
   "cell_type": "markdown",
   "metadata": {},
   "source": [
    "Las conclusiones actualizadas son que las temperaturas presentan una dispersión moderada con una mediana cercana al valor del tercer cuartil, los precios del combustible tienen una dispersión relativamente baja con una mediana mayor a la mitad de los precios, y las tasas de desempleo también muestran una dispersión moderada con una mediana significativamente más baja que el tercer cuartil."
   ]
  },
  {
   "attachments": {},
   "cell_type": "markdown",
   "metadata": {},
   "source": [
    "Quiero calcular la suma acumulada y el máximo acumulado de las ventas semanales de un departamento, lo que nos permitirá identificar cuáles fueron las ventas totales hasta ahora, así como cuáles fueron las ventas semanales más altas hasta ahora."
   ]
  },
  {
   "cell_type": "code",
   "execution_count": 6,
   "metadata": {},
   "outputs": [],
   "source": [
    "# Datos de ventas para el departamento 1 de la tienda 1\n",
    "sales_1_1 = sales[(sales[\"department\"] == 1) & (sales[\"store\"] == 1)]"
   ]
  },
  {
   "cell_type": "code",
   "execution_count": 7,
   "metadata": {},
   "outputs": [],
   "source": [
    "# sales_1_1 by date\n",
    "sales_1_1 = sales_1_1.sort_values(\"date\", ascending=True )"
   ]
  },
  {
   "cell_type": "code",
   "execution_count": 8,
   "metadata": {},
   "outputs": [
    {
     "name": "stdout",
     "output_type": "stream",
     "text": [
      "    store type  department        date  weekly_sales  is_holiday   \n",
      "0       1    A           1  2010-02-05      24924.50       False  \\\n",
      "1       1    A           1  2010-03-05      21827.90       False   \n",
      "2       1    A           1  2010-04-02      57258.43       False   \n",
      "3       1    A           1  2010-05-07      17413.94       False   \n",
      "4       1    A           1  2010-06-04      17558.09       False   \n",
      "5       1    A           1  2010-07-02      16333.14       False   \n",
      "6       1    A           1  2010-08-06      17508.41       False   \n",
      "7       1    A           1  2010-09-03      16241.78       False   \n",
      "8       1    A           1  2010-10-01      20094.19       False   \n",
      "9       1    A           1  2010-11-05      34238.88       False   \n",
      "10      1    A           1  2010-12-03      22517.56       False   \n",
      "11      1    A           1  2011-01-07      15984.24       False   \n",
      "\n",
      "    temperature_c  fuel_price_usd_per_l  unemployment  \n",
      "0        5.727778              0.679451         8.106  \n",
      "1        8.055556              0.693452         8.106  \n",
      "2       16.816667              0.718284         7.808  \n",
      "3       22.527778              0.748928         7.808  \n",
      "4       27.050000              0.714586         7.808  \n",
      "5       27.172222              0.705076         7.787  \n",
      "6       30.644444              0.693980         7.787  \n",
      "7       27.338889              0.680772         7.787  \n",
      "8       22.161111              0.687640         7.838  \n",
      "9       14.855556              0.710359         7.838  \n",
      "10       9.594444              0.715378         7.838  \n",
      "11       9.038889              0.786176         7.742  \n"
     ]
    }
   ],
   "source": [
    "print(sales_1_1)"
   ]
  },
  {
   "cell_type": "code",
   "execution_count": 9,
   "metadata": {},
   "outputs": [
    {
     "name": "stdout",
     "output_type": "stream",
     "text": [
      "    store type  department        date  weekly_sales  is_holiday   \n",
      "0       1    A           1  2010-02-05      24924.50       False  \\\n",
      "1       1    A           1  2010-03-05      21827.90       False   \n",
      "2       1    A           1  2010-04-02      57258.43       False   \n",
      "3       1    A           1  2010-05-07      17413.94       False   \n",
      "4       1    A           1  2010-06-04      17558.09       False   \n",
      "5       1    A           1  2010-07-02      16333.14       False   \n",
      "6       1    A           1  2010-08-06      17508.41       False   \n",
      "7       1    A           1  2010-09-03      16241.78       False   \n",
      "8       1    A           1  2010-10-01      20094.19       False   \n",
      "9       1    A           1  2010-11-05      34238.88       False   \n",
      "10      1    A           1  2010-12-03      22517.56       False   \n",
      "11      1    A           1  2011-01-07      15984.24       False   \n",
      "\n",
      "    temperature_c  fuel_price_usd_per_l  unemployment  cum_weekly_sales  \n",
      "0        5.727778              0.679451         8.106          24924.50  \n",
      "1        8.055556              0.693452         8.106          46752.40  \n",
      "2       16.816667              0.718284         7.808         104010.83  \n",
      "3       22.527778              0.748928         7.808         121424.77  \n",
      "4       27.050000              0.714586         7.808         138982.86  \n",
      "5       27.172222              0.705076         7.787         155316.00  \n",
      "6       30.644444              0.693980         7.787         172824.41  \n",
      "7       27.338889              0.680772         7.787         189066.19  \n",
      "8       22.161111              0.687640         7.838         209160.38  \n",
      "9       14.855556              0.710359         7.838         243399.26  \n",
      "10       9.594444              0.715378         7.838         265916.82  \n",
      "11       9.038889              0.786176         7.742         281901.06  \n"
     ]
    }
   ],
   "source": [
    "# The cumulative sum of weekly_sales, add as cum_weekly_sales col\n",
    "sales_1_1[\"cum_weekly_sales\"] = sales_1_1[\"weekly_sales\"].cumsum()\n",
    "\n",
    "print(sales_1_1)"
   ]
  },
  {
   "cell_type": "code",
   "execution_count": 10,
   "metadata": {},
   "outputs": [],
   "source": [
    "# The cumulative max of weekly_sales, add as cum_max_sales col\n",
    "sales_1_1[\"cum_max_sales\"] = sales_1_1[\"weekly_sales\"].cummax()"
   ]
  },
  {
   "cell_type": "code",
   "execution_count": 11,
   "metadata": {},
   "outputs": [
    {
     "name": "stdout",
     "output_type": "stream",
     "text": [
      "          date  weekly_sales  cum_weekly_sales  cum_max_sales\n",
      "0   2010-02-05      24924.50          24924.50       24924.50\n",
      "1   2010-03-05      21827.90          46752.40       24924.50\n",
      "2   2010-04-02      57258.43         104010.83       57258.43\n",
      "3   2010-05-07      17413.94         121424.77       57258.43\n",
      "4   2010-06-04      17558.09         138982.86       57258.43\n",
      "5   2010-07-02      16333.14         155316.00       57258.43\n",
      "6   2010-08-06      17508.41         172824.41       57258.43\n",
      "7   2010-09-03      16241.78         189066.19       57258.43\n",
      "8   2010-10-01      20094.19         209160.38       57258.43\n",
      "9   2010-11-05      34238.88         243399.26       57258.43\n",
      "10  2010-12-03      22517.56         265916.82       57258.43\n",
      "11  2011-01-07      15984.24         281901.06       57258.43\n"
     ]
    }
   ],
   "source": [
    "print(sales_1_1[[\"date\", \"weekly_sales\", \"cum_weekly_sales\", \"cum_max_sales\"]])"
   ]
  },
  {
   "attachments": {},
   "cell_type": "markdown",
   "metadata": {},
   "source": [
    "A continuación voy a crear algunos DataFrames nuevos utilizando valores únicos, osea eliminando los duplicados..."
   ]
  },
  {
   "cell_type": "code",
   "execution_count": 12,
   "metadata": {},
   "outputs": [
    {
     "name": "stdout",
     "output_type": "stream",
     "text": [
      "<class 'pandas.core.frame.DataFrame'>\n",
      "Index: 12 entries, 0 to 9899\n",
      "Data columns (total 9 columns):\n",
      " #   Column                Non-Null Count  Dtype  \n",
      "---  ------                --------------  -----  \n",
      " 0   store                 12 non-null     int64  \n",
      " 1   type                  12 non-null     object \n",
      " 2   department            12 non-null     int64  \n",
      " 3   date                  12 non-null     object \n",
      " 4   weekly_sales          12 non-null     float64\n",
      " 5   is_holiday            12 non-null     bool   \n",
      " 6   temperature_c         12 non-null     float64\n",
      " 7   fuel_price_usd_per_l  12 non-null     float64\n",
      " 8   unemployment          12 non-null     float64\n",
      "dtypes: bool(1), float64(4), int64(2), object(2)\n",
      "memory usage: 876.0+ bytes\n",
      "None\n"
     ]
    }
   ],
   "source": [
    "store_types = sales.drop_duplicates(subset=[\"store\", \"type\"])\n",
    "print(store_types.info())"
   ]
  },
  {
   "cell_type": "code",
   "execution_count": 13,
   "metadata": {},
   "outputs": [
    {
     "name": "stdout",
     "output_type": "stream",
     "text": [
      "    store type  department        date  weekly_sales  is_holiday   \n",
      "0       1    A           1  2010-02-05      24924.50       False  \\\n",
      "12      1    A           2  2010-02-05      50605.27       False   \n",
      "24      1    A           3  2010-02-05      13740.12       False   \n",
      "36      1    A           4  2010-02-05      39954.04       False   \n",
      "48      1    A           5  2010-02-05      32229.38       False   \n",
      "\n",
      "    temperature_c  fuel_price_usd_per_l  unemployment  \n",
      "0        5.727778              0.679451         8.106  \n",
      "12       5.727778              0.679451         8.106  \n",
      "24       5.727778              0.679451         8.106  \n",
      "36       5.727778              0.679451         8.106  \n",
      "48       5.727778              0.679451         8.106  \n"
     ]
    }
   ],
   "source": [
    "store_depts = sales.drop_duplicates(subset=[\"store\", \"department\"])\n",
    "print(store_depts.head())"
   ]
  },
  {
   "cell_type": "code",
   "execution_count": 14,
   "metadata": {},
   "outputs": [
    {
     "name": "stdout",
     "output_type": "stream",
     "text": [
      "       store type  department        date  weekly_sales  is_holiday   \n",
      "498        1    A          45  2010-09-10         11.47        True  \\\n",
      "691        1    A          77  2011-11-25       1431.00        True   \n",
      "896        1    A          99  2011-11-25       2400.00        True   \n",
      "1532       2    A          60  2010-09-10          8.80        True   \n",
      "1587       2    A          77  2011-11-25       1431.00        True   \n",
      "1793       2    A          99  2011-11-25       2850.00        True   \n",
      "2297       4    A          45  2010-09-10          1.00        True   \n",
      "2315       4    A          47  2010-02-12        498.00        True   \n",
      "2320       4    A          47  2010-09-10        898.00        True   \n",
      "2487       4    A          77  2011-11-25        954.00        True   \n",
      "2492       4    A          78  2010-02-12          1.00        True   \n",
      "3383       6    A          77  2011-11-25       1272.00        True   \n",
      "3588       6    A          99  2011-11-25       1550.00        True   \n",
      "4092      10    B          45  2010-09-10         31.41        True   \n",
      "4295      10    B          77  2011-11-25       1590.00        True   \n",
      "5197      13    A          77  2011-11-25       1272.00        True   \n",
      "5198      13    A          78  2010-02-12         12.00        True   \n",
      "5606      14    A          18  2010-09-10          1.94        True   \n",
      "5876      14    A          43  2010-02-12          0.25        True   \n",
      "6086      14    A          77  2011-11-25        318.00        True   \n",
      "6491      19    A          18  2010-09-10        188.00        True   \n",
      "6735      19    A          39  2012-09-07         13.41        True   \n",
      "6810      19    A          47  2010-12-31       -449.00        True   \n",
      "6815      19    A          47  2012-02-10         15.00        True   \n",
      "6820      19    A          48  2011-09-09        197.00        True   \n",
      "6854      19    A          51  2010-09-10         19.92        True   \n",
      "6990      19    A          77  2011-11-25        636.00        True   \n",
      "6992      19    A          78  2010-02-12          6.00        True   \n",
      "7718      20    A          47  2010-09-10       -598.00        True   \n",
      "7901      20    A          77  2011-11-25       1272.00        True   \n",
      "7906      20    A          78  2010-02-12         12.00        True   \n",
      "8072      20    A          96  2012-09-07         -8.97        True   \n",
      "8619      27    A          47  2010-02-12         35.00        True   \n",
      "8655      27    A          51  2010-02-12         13.56        True   \n",
      "8794      27    A          77  2011-11-25        477.00        True   \n",
      "9003      27    A          99  2011-11-25       5350.00        True   \n",
      "9506      31    A          45  2010-09-10         14.47        True   \n",
      "9687      31    A          77  2011-11-25        795.00        True   \n",
      "10402     39    A          47  2010-02-12         40.00        True   \n",
      "10421     39    A          51  2010-02-12         14.96        True   \n",
      "10565     39    A          77  2011-11-25        636.00        True   \n",
      "10569     39    A          78  2010-02-12         12.00        True   \n",
      "\n",
      "       temperature_c  fuel_price_usd_per_l  unemployment  \n",
      "498        25.938889              0.677602         7.787  \n",
      "691        15.633333              0.854861         7.866  \n",
      "896        15.633333              0.854861         7.866  \n",
      "1532       26.161111              0.677602         8.099  \n",
      "1587       13.533333              0.854861         7.441  \n",
      "1793       13.533333              0.854861         7.441  \n",
      "2297       23.077778              0.679979         7.372  \n",
      "2315       -1.755556              0.679715         8.623  \n",
      "2320       23.077778              0.679979         7.372  \n",
      "2487        8.866667              0.851955         5.143  \n",
      "2492       -1.755556              0.679715         8.623  \n",
      "3383       17.100000              0.854861         6.551  \n",
      "3588       17.100000              0.854861         6.551  \n",
      "4092       28.911111              0.782214         9.199  \n",
      "4295       15.933333              0.993287         7.874  \n",
      "5197        3.827778              0.910073         6.392  \n",
      "5198        0.644444              0.705604         8.316  \n",
      "5606       21.594444              0.713001         8.743  \n",
      "5876       -2.372222              0.732549         8.992  \n",
      "6086        9.283333              0.922489         8.523  \n",
      "6491       17.422222              0.749456         8.099  \n",
      "6735       22.333333              1.076766         8.193  \n",
      "6810       -1.861111              0.881278         8.067  \n",
      "6815        0.338889              1.010723         7.943  \n",
      "6820       20.155556              1.038197         7.806  \n",
      "6854       17.422222              0.749456         8.099  \n",
      "6990        5.972222              0.974531         7.866  \n",
      "6992       -4.877778              0.776666         8.350  \n",
      "7718       18.344444              0.713001         7.527  \n",
      "7901        7.988889              0.922489         7.082  \n",
      "7906       -5.488889              0.732549         8.187  \n",
      "8072       24.644444              1.033177         7.280  \n",
      "8619       -1.216667              0.776666         8.237  \n",
      "8655       -1.216667              0.776666         8.237  \n",
      "8794        8.822222              0.974531         7.906  \n",
      "9003        8.822222              0.974531         7.906  \n",
      "9506       26.277778              0.677602         8.099  \n",
      "9687       13.572222              0.854861         7.441  \n",
      "10402       6.988889              0.673111         8.554  \n",
      "10421       6.988889              0.673111         8.554  \n",
      "10565      19.088889              0.854861         7.716  \n",
      "10569       6.988889              0.673111         8.554  \n"
     ]
    }
   ],
   "source": [
    "holiday_dates = sales[sales[\"is_holiday\"] == True]\n",
    "print(holiday_dates)"
   ]
  },
  {
   "cell_type": "code",
   "execution_count": 15,
   "metadata": {},
   "outputs": [
    {
     "name": "stdout",
     "output_type": "stream",
     "text": [
      "      store type  department        date  weekly_sales  is_holiday   \n",
      "498       1    A          45  2010-09-10         11.47        True  \\\n",
      "691       1    A          77  2011-11-25       1431.00        True   \n",
      "2315      4    A          47  2010-02-12        498.00        True   \n",
      "6735     19    A          39  2012-09-07         13.41        True   \n",
      "6810     19    A          47  2010-12-31       -449.00        True   \n",
      "6815     19    A          47  2012-02-10         15.00        True   \n",
      "6820     19    A          48  2011-09-09        197.00        True   \n",
      "\n",
      "      temperature_c  fuel_price_usd_per_l  unemployment  \n",
      "498       25.938889              0.677602         7.787  \n",
      "691       15.633333              0.854861         7.866  \n",
      "2315      -1.755556              0.679715         8.623  \n",
      "6735      22.333333              1.076766         8.193  \n",
      "6810      -1.861111              0.881278         8.067  \n",
      "6815       0.338889              1.010723         7.943  \n",
      "6820      20.155556              1.038197         7.806  \n"
     ]
    }
   ],
   "source": [
    "holiday_dates = sales[sales[\"is_holiday\"] == True].drop_duplicates(subset=[\"date\"])\n",
    "print(holiday_dates)"
   ]
  },
  {
   "cell_type": "code",
   "execution_count": 16,
   "metadata": {},
   "outputs": [
    {
     "name": "stdout",
     "output_type": "stream",
     "text": [
      "type\n",
      "A    11\n",
      "B     1\n",
      "Name: count, dtype: int64\n"
     ]
    }
   ],
   "source": [
    "# Count\n",
    "# The number of stores of each type\n",
    "store_counts = store_types[\"type\"].value_counts()\n",
    "print(store_counts)"
   ]
  },
  {
   "cell_type": "code",
   "execution_count": 17,
   "metadata": {},
   "outputs": [
    {
     "name": "stdout",
     "output_type": "stream",
     "text": [
      "type\n",
      "A    0.916667\n",
      "B    0.083333\n",
      "Name: proportion, dtype: float64\n"
     ]
    }
   ],
   "source": [
    "# The proportion of stores of each type\n",
    "store_props = store_types[\"type\"].value_counts(normalize=True)\n",
    "print(store_props)"
   ]
  },
  {
   "cell_type": "code",
   "execution_count": 18,
   "metadata": {},
   "outputs": [
    {
     "name": "stdout",
     "output_type": "stream",
     "text": [
      "department\n",
      "1     12\n",
      "55    12\n",
      "72    12\n",
      "71    12\n",
      "67    12\n",
      "      ..\n",
      "37    10\n",
      "48     8\n",
      "50     6\n",
      "39     4\n",
      "43     2\n",
      "Name: count, Length: 80, dtype: int64\n"
     ]
    }
   ],
   "source": [
    "# The number of each department number\n",
    "dept_counts_sorted = store_depts[\"department\"].value_counts(sort=True, ascending=False)\n",
    "print(dept_counts_sorted)"
   ]
  },
  {
   "cell_type": "code",
   "execution_count": 19,
   "metadata": {},
   "outputs": [
    {
     "name": "stdout",
     "output_type": "stream",
     "text": [
      "department\n",
      "1     0.012917\n",
      "55    0.012917\n",
      "72    0.012917\n",
      "71    0.012917\n",
      "67    0.012917\n",
      "        ...   \n",
      "37    0.010764\n",
      "48    0.008611\n",
      "50    0.006459\n",
      "39    0.004306\n",
      "43    0.002153\n",
      "Name: proportion, Length: 80, dtype: float64\n"
     ]
    }
   ],
   "source": [
    "# The proportion of departments of each number and sort\n",
    "dept_props_sorted = store_depts[\"department\"].value_counts(sort=True, ascending=False, normalize=True)\n",
    "print(dept_props_sorted)"
   ]
  },
  {
   "attachments": {},
   "cell_type": "markdown",
   "metadata": {},
   "source": [
    "Se distinguen tres tipos de tiendas: \"supercentros\", \"tiendas de descuento\" y \"mercados de barrio\", codificados en este conjunto de datos como tipo \"A\", \"B\" y \"C\". Calcularemos a continuación las ventas totales realizadas en cada tipo de tienda."
   ]
  },
  {
   "cell_type": "code",
   "execution_count": 20,
   "metadata": {},
   "outputs": [
    {
     "name": "stdout",
     "output_type": "stream",
     "text": [
      "type\n",
      "A    0.909775\n",
      "B    0.090225\n",
      "Name: weekly_sales, dtype: float64\n"
     ]
    }
   ],
   "source": [
    "# Group by type; calc total weekly sales\n",
    "sales_by_type = sales.groupby(\"type\")[\"weekly_sales\"].sum()\n",
    "\n",
    "# Get proportion for each type\n",
    "sales_propn_by_type = sales_by_type / sales[\"weekly_sales\"].sum()\n",
    "print(sales_propn_by_type)"
   ]
  },
  {
   "attachments": {},
   "cell_type": "markdown",
   "metadata": {},
   "source": [
    "Las ventas difieren según el tipo de tienda dependiendo de si es una semana festiva o no?"
   ]
  },
  {
   "cell_type": "code",
   "execution_count": 21,
   "metadata": {},
   "outputs": [
    {
     "name": "stdout",
     "output_type": "stream",
     "text": [
      "type  is_holiday\n",
      "A     False         2.336927e+08\n",
      "      True          2.360181e+04\n",
      "B     False         2.317678e+07\n",
      "      True          1.621410e+03\n",
      "Name: weekly_sales, dtype: float64\n"
     ]
    }
   ],
   "source": [
    "# Group by type and is_holiday; calc total weekly sales\n",
    "sales_by_type_is_holiday = sales.groupby([\"type\", \"is_holiday\"])[\"weekly_sales\"].sum()\n",
    "print(sales_by_type_is_holiday)"
   ]
  },
  {
   "attachments": {},
   "cell_type": "markdown",
   "metadata": {},
   "source": [
    "Estos resultados indican que las ventas en las tiendas de tipo A son considerablemente más altas tanto en semanas festivas como en semanas no festivas en comparación con las tiendas de tipo B. Además, las ventas durante las semanas festivas en general son mucho más bajas en ambos tipos de tiendas en comparación con las semanas no festivas.\n",
    "\n",
    "Estos datos sugieren que el tipo de tienda y si es una semana festiva o no tienen un impacto significativo en las ventas. Es importante tener en cuenta estos factores al realizar análisis y tomar decisiones relacionadas con las estrategias de venta y promociones en diferentes tipos de tiendas."
   ]
  },
  {
   "cell_type": "code",
   "execution_count": 22,
   "metadata": {},
   "outputs": [
    {
     "name": "stdout",
     "output_type": "stream",
     "text": [
      "        amin       amax          mean    median\n",
      "type                                           \n",
      "A    -1098.0  293966.05  23674.667242  11943.92\n",
      "B     -798.0  232558.51  25696.678370  13336.08\n"
     ]
    }
   ],
   "source": [
    "# For each store type, aggregate weekly_sales: get min, max, mean, and median\n",
    "sales_stats = sales.groupby(\"type\")[\"weekly_sales\"].agg([np.min, np.max, np.mean, np.median])\n",
    "print(sales_stats)"
   ]
  },
  {
   "cell_type": "code",
   "execution_count": 23,
   "metadata": {},
   "outputs": [
    {
     "name": "stdout",
     "output_type": "stream",
     "text": [
      "     unemployment                         fuel_price_usd_per_l             \n",
      "             amin   amax      mean median                 amin      amax   \n",
      "type                                                                       \n",
      "A           3.879  8.992  7.972611  8.067             0.664129  1.107410  \\\n",
      "B           7.170  9.765  9.279323  9.199             0.760023  1.107674   \n",
      "\n",
      "                          \n",
      "          mean    median  \n",
      "type                      \n",
      "A     0.744619  0.735455  \n",
      "B     0.805858  0.803348  \n"
     ]
    }
   ],
   "source": [
    "# For each store type, aggregate unemployment and fuel_price_usd_per_l: get min, max, mean, and median\n",
    "unemp_fuel_stats = sales.groupby(\"type\")[[\"unemployment\", \"fuel_price_usd_per_l\"]].agg([np.min, np.max, np.mean, np.median])\n",
    "\n",
    "print(unemp_fuel_stats)"
   ]
  },
  {
   "attachments": {},
   "cell_type": "markdown",
   "metadata": {},
   "source": [
    "Pivoting "
   ]
  },
  {
   "cell_type": "code",
   "execution_count": 25,
   "metadata": {},
   "outputs": [
    {
     "name": "stdout",
     "output_type": "stream",
     "text": [
      "      weekly_sales\n",
      "type              \n",
      "A     23674.667242\n",
      "B     25696.678370\n"
     ]
    }
   ],
   "source": [
    "# Pivot for mean weekly_sales for each store type\n",
    "mean_sales_by_type = sales.pivot_table(values=\"weekly_sales\", index=\"type\")\n",
    "\n",
    "# Print mean_sales_by_type\n",
    "print(mean_sales_by_type)"
   ]
  },
  {
   "cell_type": "code",
   "execution_count": 26,
   "metadata": {},
   "outputs": [
    {
     "name": "stdout",
     "output_type": "stream",
     "text": [
      "              mean       median\n",
      "      weekly_sales weekly_sales\n",
      "type                           \n",
      "A     23674.667242     11943.92\n",
      "B     25696.678370     13336.08\n"
     ]
    }
   ],
   "source": [
    "mean_med_sales_by_type = sales.pivot_table(values=\"weekly_sales\", index=\"type\", aggfunc=[np.mean, np.median])\n",
    "print(mean_med_sales_by_type)"
   ]
  },
  {
   "cell_type": "code",
   "execution_count": 27,
   "metadata": {},
   "outputs": [
    {
     "name": "stdout",
     "output_type": "stream",
     "text": [
      "is_holiday         False      True \n",
      "type                               \n",
      "A           23768.583523  590.04525\n",
      "B           25751.980533  810.70500\n"
     ]
    }
   ],
   "source": [
    "# Pivot for mean weekly_sales by store type and holiday \n",
    "mean_sales_by_type_holiday = sales.pivot_table(values=\"weekly_sales\", index=\"type\", columns=\"is_holiday\")\n",
    "print(mean_sales_by_type_holiday)"
   ]
  },
  {
   "cell_type": "code",
   "execution_count": 28,
   "metadata": {},
   "outputs": [
    {
     "name": "stdout",
     "output_type": "stream",
     "text": [
      "type                    A              B\n",
      "department                              \n",
      "1            30961.725379   44050.626667\n",
      "2            67600.158788  112958.526667\n",
      "3            17160.002955   30580.655000\n",
      "4            44285.399091   51219.654167\n",
      "5            34821.011364   63236.875000\n",
      "...                   ...            ...\n",
      "95          123933.787121   77082.102500\n",
      "96           21367.042857    9528.538333\n",
      "97           28471.266970    5828.873333\n",
      "98           12875.423182     217.428333\n",
      "99             379.123659       0.000000\n",
      "\n",
      "[80 rows x 2 columns]\n"
     ]
    }
   ],
   "source": [
    "# Print mean weekly_sales by department and type; fill missing values with 0\n",
    "print(sales.pivot_table(values=\"weekly_sales\", index=\"department\", columns=\"type\", fill_value=0))"
   ]
  },
  {
   "cell_type": "code",
   "execution_count": 29,
   "metadata": {},
   "outputs": [
    {
     "name": "stdout",
     "output_type": "stream",
     "text": [
      "type                   A              B         Total\n",
      "department                                           \n",
      "1           30961.725379   44050.626667  32052.467153\n",
      "2           67600.158788  112958.526667  71380.022778\n",
      "3           17160.002955   30580.655000  18278.390625\n",
      "4           44285.399091   51219.654167  44863.253681\n",
      "5           34821.011364   63236.875000  37189.000000\n",
      "...                  ...            ...           ...\n",
      "96          21367.042857    9528.538333  20337.607681\n",
      "97          28471.266970    5828.873333  26584.400833\n",
      "98          12875.423182     217.428333  11820.590278\n",
      "99            379.123659       0.000000    379.123659\n",
      "Total       23674.667242   25696.678370  23843.950149\n",
      "\n",
      "[81 rows x 3 columns]\n"
     ]
    }
   ],
   "source": [
    "print(sales.pivot_table(values=\"weekly_sales\", index=\"department\", columns=\"type\", fill_value=0, margins=True, margins_name=\"Total\"))\n"
   ]
  }
 ],
 "metadata": {
  "kernelspec": {
   "display_name": "venv",
   "language": "python",
   "name": "python3"
  },
  "language_info": {
   "codemirror_mode": {
    "name": "ipython",
    "version": 3
   },
   "file_extension": ".py",
   "mimetype": "text/x-python",
   "name": "python",
   "nbconvert_exporter": "python",
   "pygments_lexer": "ipython3",
   "version": "3.10.4"
  },
  "orig_nbformat": 4
 },
 "nbformat": 4,
 "nbformat_minor": 2
}
