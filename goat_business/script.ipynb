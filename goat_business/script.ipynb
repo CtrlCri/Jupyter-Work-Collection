{
 "cells": [
  {
   "cell_type": "markdown",
   "metadata": {},
   "source": [
    "# Goat Business"
   ]
  },
  {
   "cell_type": "markdown",
   "metadata": {},
   "source": [
    "Una empresa desea iniciar un negocio en la ciudad de Chicago. Su idea perfecta es iniciar utilizando cabras para cortar el césped para otros negocios.  \n",
    "\n",
    "Se nos ha encargado la tarea de realizar un estudio para elegir un lugar en la ciudad para ubicar la granja de cabras. Necesitamos un lugar con mucho espacio y relativamente pocas empresas y personas alrededor para evitar quejas por el olor."
   ]
  },
  {
   "cell_type": "markdown",
   "metadata": {},
   "source": [
    "Deberemos fusionar tres tablas para ayudarle a elegir su ubicación.  \n",
    "\n",
    "La tabla **land_use** tiene información sobre el porcentaje de terrenos baldíos por distrito de la ciudad.  \n",
    "\n",
    "La tabla **census** muestra la población por distrito.  \n",
    "\n",
    "Y la tabla **licenses** enumera las empresas por distrito."
   ]
  },
  {
   "cell_type": "code",
   "execution_count": 1,
   "metadata": {},
   "outputs": [],
   "source": [
    "import pandas as pd"
   ]
  },
  {
   "cell_type": "code",
   "execution_count": 2,
   "metadata": {},
   "outputs": [],
   "source": [
    "# Upload data\n",
    "land_use = pd.read_csv('data/land_use.csv')\n",
    "census = pd.read_csv('data/census.csv')\n",
    "licenses = pd.read_csv('data/licenses.csv')"
   ]
  }
 ],
 "metadata": {
  "kernelspec": {
   "display_name": "venv",
   "language": "python",
   "name": "python3"
  },
  "language_info": {
   "codemirror_mode": {
    "name": "ipython",
    "version": 3
   },
   "file_extension": ".py",
   "mimetype": "text/x-python",
   "name": "python",
   "nbconvert_exporter": "python",
   "pygments_lexer": "ipython3",
   "version": "3.11.4"
  },
  "orig_nbformat": 4
 },
 "nbformat": 4,
 "nbformat_minor": 2
}
