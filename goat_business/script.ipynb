{
 "cells": [
  {
   "cell_type": "markdown",
   "metadata": {},
   "source": [
    "# Goat Business"
   ]
  },
  {
   "cell_type": "markdown",
   "metadata": {},
   "source": [
    "Una empresa desea iniciar un negocio en la ciudad de Chicago. Su idea perfecta es iniciar utilizando cabras para cortar el césped para otros negocios.  \n",
    "\n",
    "Se nos ha encargado la tarea de encontrar un área con mucho espacio disponible, pocas empresas y una población relativamente baja para evitar problemas con quejas sobre el olor de las cabras."
   ]
  },
  {
   "cell_type": "markdown",
   "metadata": {},
   "source": [
    "Deberemos fusionar tres tablas para ayudarle a elegir su ubicación.  \n",
    "\n",
    "La tabla **land_use** tiene información sobre el porcentaje de terrenos baldíos por distrito de la ciudad.  \n",
    "\n",
    "La tabla **census** muestra la población por distrito.  \n",
    "\n",
    "Y la tabla **licenses** enumera las empresas por distrito."
   ]
  },
  {
   "cell_type": "code",
   "execution_count": 1,
   "metadata": {},
   "outputs": [],
   "source": [
    "import pandas as pd"
   ]
  },
  {
   "cell_type": "code",
   "execution_count": 2,
   "metadata": {},
   "outputs": [],
   "source": [
    "# Upload data\n",
    "land_use = pd.read_csv('data/land_use.csv')\n",
    "census = pd.read_csv('data/census.csv')\n",
    "licenses = pd.read_csv('data/licenses.csv')"
   ]
  },
  {
   "cell_type": "code",
   "execution_count": 3,
   "metadata": {},
   "outputs": [
    {
     "name": "stdout",
     "output_type": "stream",
     "text": [
      "   ward  residential  commercial  industrial  vacant  other\n",
      "0     1           41           9           2       2     46\n",
      "1     2           31          11           6       2     50\n",
      "2     3           20           5           3      13     59\n",
      "3     4           22          13           0       7     58\n",
      "4     5           25           3           1       3     68\n",
      "(50, 6)\n"
     ]
    }
   ],
   "source": [
    "print(land_use.head())\n",
    "print(land_use.shape)"
   ]
  },
  {
   "cell_type": "code",
   "execution_count": 4,
   "metadata": {},
   "outputs": [
    {
     "name": "stdout",
     "output_type": "stream",
     "text": [
      "   ward  pop_2000  pop_2010 change                                  address  \\\n",
      "0     1     52951     56149     6%              2765 WEST SAINT MARY STREET   \n",
      "1     2     54361     55805     3%                 WM WASTE MANAGEMENT 1500   \n",
      "2     3     40385     53039    31%                      17 EAST 38TH STREET   \n",
      "3     4     51953     54589     5%  31ST ST HARBOR BUILDING LAKEFRONT TRAIL   \n",
      "4     5     55302     51455    -7%  JACKSON PARK LAGOON SOUTH CORNELL DRIVE   \n",
      "\n",
      "     zip  \n",
      "0  60647  \n",
      "1  60622  \n",
      "2  60653  \n",
      "3  60653  \n",
      "4  60637  \n",
      "(50, 6)\n"
     ]
    }
   ],
   "source": [
    "print(census.head())\n",
    "print(census.shape)"
   ]
  },
  {
   "cell_type": "code",
   "execution_count": 5,
   "metadata": {},
   "outputs": [
    {
     "name": "stdout",
     "output_type": "stream",
     "text": [
      "   account  ward  aid                   business               address  \\\n",
      "0   307071     3  743       REGGIE'S BAR & GRILL       2105 S STATE ST   \n",
      "1       10    10  829                 HONEYBEERS   13200 S HOUSTON AVE   \n",
      "2    10002    14  775                CELINA DELI     5089 S ARCHER AVE   \n",
      "3    10005    12  NaN  KRAFT FOODS NORTH AMERICA        2005 W 43RD ST   \n",
      "4    10044    44  638  NEYBOUR'S TAVERN & GRILLE  3651 N SOUTHPORT AVE   \n",
      "\n",
      "       zip  \n",
      "0  60616.0  \n",
      "1  60633.0  \n",
      "2  60632.0  \n",
      "3  60609.0  \n",
      "4  60613.0  \n",
      "(10000, 6)\n"
     ]
    }
   ],
   "source": [
    "print(licenses.head())\n",
    "print(licenses.shape)"
   ]
  },
  {
   "cell_type": "code",
   "execution_count": 6,
   "metadata": {},
   "outputs": [],
   "source": [
    "# Merge land_use and census and merge result with licenses including suffixes\n",
    "land_cen_lic = land_use.merge(census, on='ward') \\\n",
    "                    .merge(licenses, on='ward', suffixes=('_cen','_lic'))"
   ]
  },
  {
   "cell_type": "code",
   "execution_count": 7,
   "metadata": {},
   "outputs": [
    {
     "name": "stdout",
     "output_type": "stream",
     "text": [
      "   ward  residential  commercial  industrial  vacant  other  pop_2000  \\\n",
      "0     1           41           9           2       2     46     52951   \n",
      "1     1           41           9           2       2     46     52951   \n",
      "2     1           41           9           2       2     46     52951   \n",
      "3     1           41           9           2       2     46     52951   \n",
      "4     1           41           9           2       2     46     52951   \n",
      "\n",
      "   pop_2010 change                  address_cen  zip_cen  account  aid  \\\n",
      "0     56149     6%  2765 WEST SAINT MARY STREET    60647    12024  NaN   \n",
      "1     56149     6%  2765 WEST SAINT MARY STREET    60647    14446  743   \n",
      "2     56149     6%  2765 WEST SAINT MARY STREET    60647    14624  775   \n",
      "3     56149     6%  2765 WEST SAINT MARY STREET    60647    14987  NaN   \n",
      "4     56149     6%  2765 WEST SAINT MARY STREET    60647    15642  814   \n",
      "\n",
      "               business              address_lic  zip_lic  \n",
      "0   DIGILOG ELECTRONICS       1038 N ASHLAND AVE  60622.0  \n",
      "1      EMPTY BOTTLE INC   1035 N WESTERN AVE 1ST  60622.0  \n",
      "2  LITTLE MEL'S HOT DOG    2205 N CALIFORNIA AVE  60647.0  \n",
      "3    MR. BROWN'S LOUNGE   2301 W CHICAGO AVE 1ST  60622.0  \n",
      "4          Beat Kitchen  2000-2100 W DIVISION ST  60622.0  \n",
      "(10000, 16)\n"
     ]
    }
   ],
   "source": [
    "print(land_cen_lic.head())\n",
    "print(land_cen_lic.shape)"
   ]
  },
  {
   "cell_type": "markdown",
   "metadata": {},
   "source": [
    "Realizamos una operación de agregación para contar el número de cuentas."
   ]
  },
  {
   "cell_type": "code",
   "execution_count": 8,
   "metadata": {},
   "outputs": [],
   "source": [
    "# Group by ward, pop_2010, and vacant, then count the # of accounts\n",
    "pop_vac_lic = land_cen_lic.groupby(['ward', 'pop_2010', 'vacant'],\n",
    "                                   as_index=False).agg({'account':'count'})"
   ]
  },
  {
   "cell_type": "markdown",
   "metadata": {},
   "source": [
    "Ordenamos por la columna 'account' en orden descendente (mayor a menor)."
   ]
  },
  {
   "cell_type": "code",
   "execution_count": 11,
   "metadata": {},
   "outputs": [
    {
     "name": "stdout",
     "output_type": "stream",
     "text": [
      "    ward  pop_2010  vacant  account\n",
      "6      7     51581      19       80\n",
      "19    20     52372      15      123\n",
      "9     10     51535      14      130\n",
      "23    24     54909      13       98\n",
      "15    16     51954      13      156\n"
     ]
    }
   ],
   "source": [
    "# Sort pop_vac_lic and print the results\n",
    "sorted_pop_vac_lic = pop_vac_lic.sort_values(by=['vacant', 'account', 'pop_2010'], \n",
    "                                             ascending=[False, True, True])\n",
    "\n",
    "# Print the top few rows of sorted_pop_vac_lic\n",
    "print(sorted_pop_vac_lic.head())"
   ]
  },
  {
   "cell_type": "markdown",
   "metadata": {},
   "source": [
    "**Conclusión**, el lugar ideal para la granja de ovejas en Chicago sería una ubicación con un alto porcentaje de tierra vacante, un bajo número de cuentas de negocios y una población baja, de acuerdo con los criterios. Las primeras filas de sorted_pop_vac_lic nos muestran las áreas que mejor se ajustan a estos requisitos."
   ]
  }
 ],
 "metadata": {
  "kernelspec": {
   "display_name": "venv",
   "language": "python",
   "name": "python3"
  },
  "language_info": {
   "codemirror_mode": {
    "name": "ipython",
    "version": 3
   },
   "file_extension": ".py",
   "mimetype": "text/x-python",
   "name": "python",
   "nbconvert_exporter": "python",
   "pygments_lexer": "ipython3",
   "version": "3.11.4"
  },
  "orig_nbformat": 4
 },
 "nbformat": 4,
 "nbformat_minor": 2
}
