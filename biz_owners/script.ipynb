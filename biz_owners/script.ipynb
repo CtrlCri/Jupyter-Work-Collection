{
 "cells": [
  {
   "cell_type": "markdown",
   "metadata": {},
   "source": [
    "Una empresa puede tener uno o varios propietarios. \n",
    "\n",
    "biz_owners, una tabla de propietarios de empresas.\n",
    "licenses, la tabla con licencias\n",
    "\n",
    "Cuál es el título de propietario de negocio más común? (es decir, secretario, director ejecutivo o vicepresidente)"
   ]
  },
  {
   "cell_type": "code",
   "execution_count": 1,
   "metadata": {},
   "outputs": [
    {
     "name": "stdout",
     "output_type": "stream",
     "text": [
      "   account first_name  last_name      title\n",
      "0       10      PEARL    SHERMAN  PRESIDENT\n",
      "1       10      PEARL    SHERMAN  SECRETARY\n",
      "2    10002     WALTER     MROZEK    PARTNER\n",
      "3    10002     CELINA     BYRDAK    PARTNER\n",
      "4    10005      IRENE  ROSENFELD  PRESIDENT\n"
     ]
    }
   ],
   "source": [
    "import pandas as pd\n",
    "\n",
    "biz_owners = pd.read_csv('biz_owners.csv')\n",
    "\n",
    "print(biz_owners.head())"
   ]
  },
  {
   "cell_type": "code",
   "execution_count": null,
   "metadata": {},
   "outputs": [],
   "source": []
  }
 ],
 "metadata": {
  "kernelspec": {
   "display_name": "venv",
   "language": "python",
   "name": "python3"
  },
  "language_info": {
   "codemirror_mode": {
    "name": "ipython",
    "version": 3
   },
   "file_extension": ".py",
   "mimetype": "text/x-python",
   "name": "python",
   "nbconvert_exporter": "python",
   "pygments_lexer": "ipython3",
   "version": "3.11.4"
  },
  "orig_nbformat": 4
 },
 "nbformat": 4,
 "nbformat_minor": 2
}
