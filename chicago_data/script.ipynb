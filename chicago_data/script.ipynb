{
 "cells": [
  {
   "cell_type": "markdown",
   "metadata": {},
   "source": [
    "# Portal de Datos de la Ciudad de Chicago\n",
    "\n",
    "Usaremos datos del portal de datos de la ciudad de Chicago.  \n",
    "\n",
    "La ciudad de Chicago está dividida en cincuenta barrios locales llamados distritos. Tenemos una tabla con datos sobre las oficinas del gobierno local en cada barrio. En este ejemplo, queremos fusionar los datos del gobierno local con los datos del censo sobre la población de cada barrio."
   ]
  }
 ],
 "metadata": {
  "language_info": {
   "name": "python"
  },
  "orig_nbformat": 4
 },
 "nbformat": 4,
 "nbformat_minor": 2
}
