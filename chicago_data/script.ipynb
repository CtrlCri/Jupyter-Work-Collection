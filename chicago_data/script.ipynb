{
 "cells": [
  {
   "cell_type": "markdown",
   "metadata": {},
   "source": [
    "# Portal de Datos de la Ciudad de Chicago\n",
    "\n",
    "Usaremos datos del portal de datos de la ciudad de Chicago.  \n",
    "\n",
    "La ciudad de Chicago está dividida en cincuenta barrios locales llamados distritos. Tenemos una tabla con datos sobre las oficinas del gobierno local en cada barrio. "
   ]
  },
  {
   "cell_type": "markdown",
   "metadata": {},
   "source": [
    "![Chicago City](images/chicago_city.png)"
   ]
  },
  {
   "cell_type": "code",
   "execution_count": 2,
   "metadata": {},
   "outputs": [],
   "source": [
    "\n",
    "import pandas as pd"
   ]
  },
  {
   "cell_type": "code",
   "execution_count": 8,
   "metadata": {},
   "outputs": [],
   "source": [
    "# Upload Datasets\n",
    "wards = pd.read_csv('data/wards.csv')\n",
    "census = pd.read_csv('data/census.csv')\n",
    "licenses = pd.read_csv('data/licenses.csv')\n",
    "zip_demo = pd.read_csv('data/zip_demo.csv')\n"
   ]
  },
  {
   "cell_type": "markdown",
   "metadata": {},
   "source": [
    "En este ejemplo, queremos fusionar los datos del gobierno local con los datos del censo sobre la población de cada distrito."
   ]
  },
  {
   "cell_type": "markdown",
   "metadata": {},
   "source": [
    "![Distritos - Censo](images/chicago_census.png)"
   ]
  },
  {
   "cell_type": "markdown",
   "metadata": {},
   "source": [
    "**Wards**"
   ]
  },
  {
   "cell_type": "code",
   "execution_count": 7,
   "metadata": {},
   "outputs": [
    {
     "name": "stdout",
     "output_type": "stream",
     "text": [
      "   ward            alderman                          address    zip\n",
      "0     1  Proco \"Joe\" Moreno        2058 NORTH WESTERN AVENUE  60647\n",
      "1     2       Brian Hopkins       1400 NORTH  ASHLAND AVENUE  60622\n",
      "2     3          Pat Dowell          5046 SOUTH STATE STREET  60609\n",
      "3     4    William D. Burns  435 EAST 35TH STREET, 1ST FLOOR  60616\n",
      "4     5  Leslie A. Hairston            2325 EAST 71ST STREET  60649\n",
      "(50, 4)\n"
     ]
    }
   ],
   "source": [
    "print(wards.head())\n",
    "print(wards.shape)"
   ]
  },
  {
   "cell_type": "markdown",
   "metadata": {},
   "source": [
    "Si miramos la tabla de distritos, tenemos información sobre el gobierno local de cada distrito, como la dirección de la oficina gubernamental. Esta tabla tiene 50 filas y 4 columnas, o una fila para cada barrio."
   ]
  },
  {
   "cell_type": "markdown",
   "metadata": {},
   "source": [
    "**Census**"
   ]
  },
  {
   "cell_type": "code",
   "execution_count": 9,
   "metadata": {},
   "outputs": [
    {
     "name": "stdout",
     "output_type": "stream",
     "text": [
      "   ward  pop_2000  pop_2010 change                                  address  \\\n",
      "0     1     52951     56149     6%              2765 WEST SAINT MARY STREET   \n",
      "1     2     54361     55805     3%                 WM WASTE MANAGEMENT 1500   \n",
      "2     3     40385     53039    31%                      17 EAST 38TH STREET   \n",
      "3     4     51953     54589     5%  31ST ST HARBOR BUILDING LAKEFRONT TRAIL   \n",
      "4     5     55302     51455    -7%  JACKSON PARK LAGOON SOUTH CORNELL DRIVE   \n",
      "\n",
      "     zip  \n",
      "0  60647  \n",
      "1  60622  \n",
      "2  60653  \n",
      "3  60653  \n",
      "4  60637  \n",
      "(50, 6)\n"
     ]
    }
   ],
   "source": [
    "print(census.head())\n",
    "print(census.shape)"
   ]
  },
  {
   "cell_type": "markdown",
   "metadata": {},
   "source": [
    "La tabla del censo contiene la población de cada distrito en 2000 y 2010, y ese cambio como porcentaje. Además, incluye la dirección del centro de cada barrio. Esta tabla tiene 50 filas y 6 columnas."
   ]
  },
  {
   "cell_type": "markdown",
   "metadata": {},
   "source": [
    "**Merging tables**"
   ]
  },
  {
   "cell_type": "markdown",
   "metadata": {},
   "source": [
    "Las dos tablas están relacionadas por la columna de su barrio. Podemos fusionarlos, haciendo coincidir el número de distrito de cada fila de la tabla de distritos con los números de distrito de la tabla del censo. Por ejemplo, el segundo distrito en la tabla de distritos con el concejal Brian Hopkins coincidiría con la fila 2 de la tabla del censo donde la población en 2000 era 54.361."
   ]
  },
  {
   "cell_type": "code",
   "execution_count": 10,
   "metadata": {},
   "outputs": [
    {
     "name": "stdout",
     "output_type": "stream",
     "text": [
      "   ward            alderman                     address_ward  zip_ward  \\\n",
      "0     1  Proco \"Joe\" Moreno        2058 NORTH WESTERN AVENUE     60647   \n",
      "1     2       Brian Hopkins       1400 NORTH  ASHLAND AVENUE     60622   \n",
      "2     3          Pat Dowell          5046 SOUTH STATE STREET     60609   \n",
      "3     4    William D. Burns  435 EAST 35TH STREET, 1ST FLOOR     60616   \n",
      "4     5  Leslie A. Hairston            2325 EAST 71ST STREET     60649   \n",
      "\n",
      "   pop_2000  pop_2010 change                              address_cen  zip_cen  \n",
      "0     52951     56149     6%              2765 WEST SAINT MARY STREET    60647  \n",
      "1     54361     55805     3%                 WM WASTE MANAGEMENT 1500    60622  \n",
      "2     40385     53039    31%                      17 EAST 38TH STREET    60653  \n",
      "3     51953     54589     5%  31ST ST HARBOR BUILDING LAKEFRONT TRAIL    60653  \n",
      "4     55302     51455    -7%  JACKSON PARK LAGOON SOUTH CORNELL DRIVE    60637  \n",
      "(50, 9)\n"
     ]
    }
   ],
   "source": [
    "wards_census = wards.merge(census, on='ward', suffixes=('_ward', '_cen'))\n",
    "print(wards_census.head())\n",
    "print(wards_census.shape)"
   ]
  },
  {
   "cell_type": "code",
   "execution_count": null,
   "metadata": {},
   "outputs": [],
   "source": []
  }
 ],
 "metadata": {
  "kernelspec": {
   "display_name": "venv",
   "language": "python",
   "name": "python3"
  },
  "language_info": {
   "codemirror_mode": {
    "name": "ipython",
    "version": 3
   },
   "file_extension": ".py",
   "mimetype": "text/x-python",
   "name": "python",
   "nbconvert_exporter": "python",
   "pygments_lexer": "ipython3",
   "version": "3.10.12"
  },
  "orig_nbformat": 4
 },
 "nbformat": 4,
 "nbformat_minor": 2
}
