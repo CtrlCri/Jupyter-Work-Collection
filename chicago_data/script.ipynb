{
 "cells": [
  {
   "cell_type": "markdown",
   "metadata": {},
   "source": [
    "# Portal de Datos de la Ciudad de Chicago\n",
    "\n",
    "Usaremos datos del portal de datos de la ciudad de Chicago.  \n",
    "\n",
    "La ciudad de Chicago está dividida en cincuenta barrios locales llamados distritos. Tenemos una tabla con datos sobre las oficinas del gobierno local en cada barrio. "
   ]
  },
  {
   "cell_type": "markdown",
   "metadata": {},
   "source": [
    "![Chicago City](images/chicago_city.png)"
   ]
  },
  {
   "cell_type": "code",
   "execution_count": 1,
   "metadata": {},
   "outputs": [],
   "source": [
    "\n",
    "import pandas as pd"
   ]
  },
  {
   "cell_type": "code",
   "execution_count": 4,
   "metadata": {},
   "outputs": [],
   "source": [
    "licenses = pd.read_csv('data/licenses.csv')\n",
    "wards = pd.read_csv('data/wards.csv')\n",
    "zip_demo = pd.read_csv('data/zip_demo.csv')"
   ]
  },
  {
   "cell_type": "markdown",
   "metadata": {},
   "source": [
    "En este ejemplo, queremos fusionar los datos del gobierno local con los datos del censo sobre la población de cada barrio."
   ]
  },
  {
   "cell_type": "code",
   "execution_count": null,
   "metadata": {},
   "outputs": [],
   "source": []
  }
 ],
 "metadata": {
  "kernelspec": {
   "display_name": "venv",
   "language": "python",
   "name": "python3"
  },
  "language_info": {
   "codemirror_mode": {
    "name": "ipython",
    "version": 3
   },
   "file_extension": ".py",
   "mimetype": "text/x-python",
   "name": "python",
   "nbconvert_exporter": "python",
   "pygments_lexer": "ipython3",
   "version": "3.10.12"
  },
  "orig_nbformat": 4
 },
 "nbformat": 4,
 "nbformat_minor": 2
}
