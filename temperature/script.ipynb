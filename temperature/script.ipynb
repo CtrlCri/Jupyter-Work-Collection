{
 "cells": [
  {
   "cell_type": "code",
   "execution_count": 1,
   "metadata": {},
   "outputs": [],
   "source": [
    "import pandas as pd\n",
    "\n",
    "temperatures = pd.read_csv('temperatures.csv')"
   ]
  },
  {
   "cell_type": "code",
   "execution_count": 2,
   "metadata": {},
   "outputs": [
    {
     "name": "stdout",
     "output_type": "stream",
     "text": [
      "             date     city        country  avg_temp_c\n",
      "0      2000-01-01  Abidjan  Côte D'Ivoire      27.293\n",
      "1      2000-02-01  Abidjan  Côte D'Ivoire      27.685\n",
      "2      2000-03-01  Abidjan  Côte D'Ivoire      29.061\n",
      "3      2000-04-01  Abidjan  Côte D'Ivoire      28.162\n",
      "4      2000-05-01  Abidjan  Côte D'Ivoire      27.547\n",
      "...           ...      ...            ...         ...\n",
      "16495  2013-05-01     Xian          China      18.979\n",
      "16496  2013-06-01     Xian          China      23.522\n",
      "16497  2013-07-01     Xian          China      25.251\n",
      "16498  2013-08-01     Xian          China      24.528\n",
      "16499  2013-09-01     Xian          China         NaN\n",
      "\n",
      "[16500 rows x 4 columns]\n"
     ]
    }
   ],
   "source": [
    "# Look at temperatures\n",
    "print(temperatures)"
   ]
  },
  {
   "cell_type": "code",
   "execution_count": 3,
   "metadata": {},
   "outputs": [
    {
     "name": "stdout",
     "output_type": "stream",
     "text": [
      "               date        country  avg_temp_c\n",
      "city                                          \n",
      "Abidjan  2000-01-01  Côte D'Ivoire      27.293\n",
      "Abidjan  2000-02-01  Côte D'Ivoire      27.685\n",
      "Abidjan  2000-03-01  Côte D'Ivoire      29.061\n",
      "Abidjan  2000-04-01  Côte D'Ivoire      28.162\n",
      "Abidjan  2000-05-01  Côte D'Ivoire      27.547\n",
      "...             ...            ...         ...\n",
      "Xian     2013-05-01          China      18.979\n",
      "Xian     2013-06-01          China      23.522\n",
      "Xian     2013-07-01          China      25.251\n",
      "Xian     2013-08-01          China      24.528\n",
      "Xian     2013-09-01          China         NaN\n",
      "\n",
      "[16500 rows x 3 columns]\n"
     ]
    }
   ],
   "source": [
    "# Set the index of temperatures to city\n",
    "temperatures_ind = temperatures.set_index('city')\n",
    "\n",
    "# Look at temperatures_ind\n",
    "print(temperatures_ind)"
   ]
  },
  {
   "cell_type": "code",
   "execution_count": 4,
   "metadata": {},
   "outputs": [
    {
     "name": "stdout",
     "output_type": "stream",
     "text": [
      "          city        date        country  avg_temp_c\n",
      "0      Abidjan  2000-01-01  Côte D'Ivoire      27.293\n",
      "1      Abidjan  2000-02-01  Côte D'Ivoire      27.685\n",
      "2      Abidjan  2000-03-01  Côte D'Ivoire      29.061\n",
      "3      Abidjan  2000-04-01  Côte D'Ivoire      28.162\n",
      "4      Abidjan  2000-05-01  Côte D'Ivoire      27.547\n",
      "...        ...         ...            ...         ...\n",
      "16495     Xian  2013-05-01          China      18.979\n",
      "16496     Xian  2013-06-01          China      23.522\n",
      "16497     Xian  2013-07-01          China      25.251\n",
      "16498     Xian  2013-08-01          China      24.528\n",
      "16499     Xian  2013-09-01          China         NaN\n",
      "\n",
      "[16500 rows x 4 columns]\n"
     ]
    }
   ],
   "source": [
    "# Reset the temperatures_ind index, keeping its contents\n",
    "print(temperatures_ind.reset_index())"
   ]
  },
  {
   "cell_type": "code",
   "execution_count": 5,
   "metadata": {},
   "outputs": [
    {
     "name": "stdout",
     "output_type": "stream",
     "text": [
      "             date        country  avg_temp_c\n",
      "0      2000-01-01  Côte D'Ivoire      27.293\n",
      "1      2000-02-01  Côte D'Ivoire      27.685\n",
      "2      2000-03-01  Côte D'Ivoire      29.061\n",
      "3      2000-04-01  Côte D'Ivoire      28.162\n",
      "4      2000-05-01  Côte D'Ivoire      27.547\n",
      "...           ...            ...         ...\n",
      "16495  2013-05-01          China      18.979\n",
      "16496  2013-06-01          China      23.522\n",
      "16497  2013-07-01          China      25.251\n",
      "16498  2013-08-01          China      24.528\n",
      "16499  2013-09-01          China         NaN\n",
      "\n",
      "[16500 rows x 3 columns]\n"
     ]
    }
   ],
   "source": [
    "# Reset the temperatures_ind index, dropping its contents\n",
    "print(temperatures_ind.reset_index(drop=True))"
   ]
  },
  {
   "cell_type": "code",
   "execution_count": null,
   "metadata": {},
   "outputs": [],
   "source": []
  }
 ],
 "metadata": {
  "kernelspec": {
   "display_name": "venv",
   "language": "python",
   "name": "python3"
  },
  "language_info": {
   "codemirror_mode": {
    "name": "ipython",
    "version": 3
   },
   "file_extension": ".py",
   "mimetype": "text/x-python",
   "name": "python",
   "nbconvert_exporter": "python",
   "pygments_lexer": "ipython3",
   "version": "3.10.4"
  },
  "orig_nbformat": 4
 },
 "nbformat": 4,
 "nbformat_minor": 2
}
